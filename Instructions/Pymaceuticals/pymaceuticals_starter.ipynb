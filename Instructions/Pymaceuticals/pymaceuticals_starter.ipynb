{
 "cells": [
  {
   "cell_type": "markdown",
   "metadata": {},
   "source": [
    "## Observations and Insights "
   ]
  },
  {
   "cell_type": "markdown",
   "metadata": {},
   "source": []
  },
  {
   "cell_type": "code",
   "execution_count": 4,
   "metadata": {},
   "outputs": [
    {
     "data": {
      "text/html": [
       "<div>\n",
       "<style scoped>\n",
       "    .dataframe tbody tr th:only-of-type {\n",
       "        vertical-align: middle;\n",
       "    }\n",
       "\n",
       "    .dataframe tbody tr th {\n",
       "        vertical-align: top;\n",
       "    }\n",
       "\n",
       "    .dataframe thead th {\n",
       "        text-align: right;\n",
       "    }\n",
       "</style>\n",
       "<table border=\"1\" class=\"dataframe\">\n",
       "  <thead>\n",
       "    <tr style=\"text-align: right;\">\n",
       "      <th></th>\n",
       "      <th>Mouse ID</th>\n",
       "      <th>Drug Regimen</th>\n",
       "      <th>Sex</th>\n",
       "      <th>Age_months</th>\n",
       "      <th>Weight (g)</th>\n",
       "      <th>Timepoint</th>\n",
       "      <th>Tumor Volume (mm3)</th>\n",
       "      <th>Metastatic Sites</th>\n",
       "    </tr>\n",
       "  </thead>\n",
       "  <tbody>\n",
       "    <tr>\n",
       "      <th>0</th>\n",
       "      <td>k403</td>\n",
       "      <td>Ramicane</td>\n",
       "      <td>Male</td>\n",
       "      <td>21</td>\n",
       "      <td>16</td>\n",
       "      <td>0</td>\n",
       "      <td>45.000000</td>\n",
       "      <td>0</td>\n",
       "    </tr>\n",
       "    <tr>\n",
       "      <th>1</th>\n",
       "      <td>k403</td>\n",
       "      <td>Ramicane</td>\n",
       "      <td>Male</td>\n",
       "      <td>21</td>\n",
       "      <td>16</td>\n",
       "      <td>5</td>\n",
       "      <td>38.825898</td>\n",
       "      <td>0</td>\n",
       "    </tr>\n",
       "    <tr>\n",
       "      <th>2</th>\n",
       "      <td>k403</td>\n",
       "      <td>Ramicane</td>\n",
       "      <td>Male</td>\n",
       "      <td>21</td>\n",
       "      <td>16</td>\n",
       "      <td>10</td>\n",
       "      <td>35.014271</td>\n",
       "      <td>1</td>\n",
       "    </tr>\n",
       "    <tr>\n",
       "      <th>3</th>\n",
       "      <td>k403</td>\n",
       "      <td>Ramicane</td>\n",
       "      <td>Male</td>\n",
       "      <td>21</td>\n",
       "      <td>16</td>\n",
       "      <td>15</td>\n",
       "      <td>34.223992</td>\n",
       "      <td>1</td>\n",
       "    </tr>\n",
       "    <tr>\n",
       "      <th>4</th>\n",
       "      <td>k403</td>\n",
       "      <td>Ramicane</td>\n",
       "      <td>Male</td>\n",
       "      <td>21</td>\n",
       "      <td>16</td>\n",
       "      <td>20</td>\n",
       "      <td>32.997729</td>\n",
       "      <td>1</td>\n",
       "    </tr>\n",
       "  </tbody>\n",
       "</table>\n",
       "</div>"
      ],
      "text/plain": [
       "  Mouse ID Drug Regimen   Sex  Age_months  Weight (g)  Timepoint  \\\n",
       "0     k403     Ramicane  Male          21          16          0   \n",
       "1     k403     Ramicane  Male          21          16          5   \n",
       "2     k403     Ramicane  Male          21          16         10   \n",
       "3     k403     Ramicane  Male          21          16         15   \n",
       "4     k403     Ramicane  Male          21          16         20   \n",
       "\n",
       "   Tumor Volume (mm3)  Metastatic Sites  \n",
       "0           45.000000                 0  \n",
       "1           38.825898                 0  \n",
       "2           35.014271                 1  \n",
       "3           34.223992                 1  \n",
       "4           32.997729                 1  "
      ]
     },
     "execution_count": 4,
     "metadata": {},
     "output_type": "execute_result"
    }
   ],
   "source": [
    "# Dependencies and Setup\n",
    "import matplotlib.pyplot as plt\n",
    "import pandas as pd\n",
    "import scipy.stats as st\n",
    "\n",
    "# Study data files\n",
    "mouse_metadata_path = \"data/Mouse_metadata.csv\"\n",
    "study_results_path = \"data/Study_results.csv\"\n",
    "\n",
    "# Read the mouse data and the study results\n",
    "mouse_metadata = pd.read_csv(mouse_metadata_path)\n",
    "study_results = pd.read_csv(study_results_path)\n",
    "\n",
    "# Combine the data into a single dataset\n",
    "combined_df = pd.merge(mouse_metadata, study_results, on='Mouse ID')\n",
    "# Display the data table for preview\n",
    "combined_df.head()"
   ]
  },
  {
   "cell_type": "code",
   "execution_count": 5,
   "metadata": {},
   "outputs": [
    {
     "data": {
      "text/plain": [
       "249"
      ]
     },
     "execution_count": 5,
     "metadata": {},
     "output_type": "execute_result"
    }
   ],
   "source": [
    "# Checking the number of mice.\n",
    "mice = combined_df['Mouse ID'].value_counts()\n",
    "number_mice = (len(mice))\n",
    "number_mice"
   ]
  },
  {
   "cell_type": "code",
   "execution_count": 6,
   "metadata": {},
   "outputs": [
    {
     "data": {
      "text/plain": [
       "array(['g989'], dtype=object)"
      ]
     },
     "execution_count": 6,
     "metadata": {},
     "output_type": "execute_result"
    }
   ],
   "source": [
    "# Getting the duplicate mice by ID number that shows up for Mouse ID and Timepoint. \n",
    "duplicate_mice = combined_df.loc[combined_df.duplicated(subset=['Mouse ID', 'Timepoint']),'Mouse ID'].unique()\n",
    "duplicate_mice"
   ]
  },
  {
   "cell_type": "code",
   "execution_count": 7,
   "metadata": {
    "scrolled": true
   },
   "outputs": [
    {
     "data": {
      "text/html": [
       "<div>\n",
       "<style scoped>\n",
       "    .dataframe tbody tr th:only-of-type {\n",
       "        vertical-align: middle;\n",
       "    }\n",
       "\n",
       "    .dataframe tbody tr th {\n",
       "        vertical-align: top;\n",
       "    }\n",
       "\n",
       "    .dataframe thead th {\n",
       "        text-align: right;\n",
       "    }\n",
       "</style>\n",
       "<table border=\"1\" class=\"dataframe\">\n",
       "  <thead>\n",
       "    <tr style=\"text-align: right;\">\n",
       "      <th></th>\n",
       "      <th>Mouse ID</th>\n",
       "      <th>Drug Regimen</th>\n",
       "      <th>Sex</th>\n",
       "      <th>Age_months</th>\n",
       "      <th>Weight (g)</th>\n",
       "      <th>Timepoint</th>\n",
       "      <th>Tumor Volume (mm3)</th>\n",
       "      <th>Metastatic Sites</th>\n",
       "    </tr>\n",
       "  </thead>\n",
       "  <tbody>\n",
       "    <tr>\n",
       "      <th>0</th>\n",
       "      <td>k403</td>\n",
       "      <td>Ramicane</td>\n",
       "      <td>Male</td>\n",
       "      <td>21</td>\n",
       "      <td>16</td>\n",
       "      <td>0</td>\n",
       "      <td>45.000000</td>\n",
       "      <td>0</td>\n",
       "    </tr>\n",
       "    <tr>\n",
       "      <th>1</th>\n",
       "      <td>k403</td>\n",
       "      <td>Ramicane</td>\n",
       "      <td>Male</td>\n",
       "      <td>21</td>\n",
       "      <td>16</td>\n",
       "      <td>5</td>\n",
       "      <td>38.825898</td>\n",
       "      <td>0</td>\n",
       "    </tr>\n",
       "    <tr>\n",
       "      <th>2</th>\n",
       "      <td>k403</td>\n",
       "      <td>Ramicane</td>\n",
       "      <td>Male</td>\n",
       "      <td>21</td>\n",
       "      <td>16</td>\n",
       "      <td>10</td>\n",
       "      <td>35.014271</td>\n",
       "      <td>1</td>\n",
       "    </tr>\n",
       "    <tr>\n",
       "      <th>3</th>\n",
       "      <td>k403</td>\n",
       "      <td>Ramicane</td>\n",
       "      <td>Male</td>\n",
       "      <td>21</td>\n",
       "      <td>16</td>\n",
       "      <td>15</td>\n",
       "      <td>34.223992</td>\n",
       "      <td>1</td>\n",
       "    </tr>\n",
       "    <tr>\n",
       "      <th>4</th>\n",
       "      <td>k403</td>\n",
       "      <td>Ramicane</td>\n",
       "      <td>Male</td>\n",
       "      <td>21</td>\n",
       "      <td>16</td>\n",
       "      <td>20</td>\n",
       "      <td>32.997729</td>\n",
       "      <td>1</td>\n",
       "    </tr>\n",
       "    <tr>\n",
       "      <th>...</th>\n",
       "      <td>...</td>\n",
       "      <td>...</td>\n",
       "      <td>...</td>\n",
       "      <td>...</td>\n",
       "      <td>...</td>\n",
       "      <td>...</td>\n",
       "      <td>...</td>\n",
       "      <td>...</td>\n",
       "    </tr>\n",
       "    <tr>\n",
       "      <th>1888</th>\n",
       "      <td>z969</td>\n",
       "      <td>Naftisol</td>\n",
       "      <td>Male</td>\n",
       "      <td>9</td>\n",
       "      <td>30</td>\n",
       "      <td>25</td>\n",
       "      <td>63.145652</td>\n",
       "      <td>2</td>\n",
       "    </tr>\n",
       "    <tr>\n",
       "      <th>1889</th>\n",
       "      <td>z969</td>\n",
       "      <td>Naftisol</td>\n",
       "      <td>Male</td>\n",
       "      <td>9</td>\n",
       "      <td>30</td>\n",
       "      <td>30</td>\n",
       "      <td>65.841013</td>\n",
       "      <td>3</td>\n",
       "    </tr>\n",
       "    <tr>\n",
       "      <th>1890</th>\n",
       "      <td>z969</td>\n",
       "      <td>Naftisol</td>\n",
       "      <td>Male</td>\n",
       "      <td>9</td>\n",
       "      <td>30</td>\n",
       "      <td>35</td>\n",
       "      <td>69.176246</td>\n",
       "      <td>4</td>\n",
       "    </tr>\n",
       "    <tr>\n",
       "      <th>1891</th>\n",
       "      <td>z969</td>\n",
       "      <td>Naftisol</td>\n",
       "      <td>Male</td>\n",
       "      <td>9</td>\n",
       "      <td>30</td>\n",
       "      <td>40</td>\n",
       "      <td>70.314904</td>\n",
       "      <td>4</td>\n",
       "    </tr>\n",
       "    <tr>\n",
       "      <th>1892</th>\n",
       "      <td>z969</td>\n",
       "      <td>Naftisol</td>\n",
       "      <td>Male</td>\n",
       "      <td>9</td>\n",
       "      <td>30</td>\n",
       "      <td>45</td>\n",
       "      <td>73.867845</td>\n",
       "      <td>4</td>\n",
       "    </tr>\n",
       "  </tbody>\n",
       "</table>\n",
       "<p>1880 rows × 8 columns</p>\n",
       "</div>"
      ],
      "text/plain": [
       "     Mouse ID Drug Regimen   Sex  Age_months  Weight (g)  Timepoint  \\\n",
       "0        k403     Ramicane  Male          21          16          0   \n",
       "1        k403     Ramicane  Male          21          16          5   \n",
       "2        k403     Ramicane  Male          21          16         10   \n",
       "3        k403     Ramicane  Male          21          16         15   \n",
       "4        k403     Ramicane  Male          21          16         20   \n",
       "...       ...          ...   ...         ...         ...        ...   \n",
       "1888     z969     Naftisol  Male           9          30         25   \n",
       "1889     z969     Naftisol  Male           9          30         30   \n",
       "1890     z969     Naftisol  Male           9          30         35   \n",
       "1891     z969     Naftisol  Male           9          30         40   \n",
       "1892     z969     Naftisol  Male           9          30         45   \n",
       "\n",
       "      Tumor Volume (mm3)  Metastatic Sites  \n",
       "0              45.000000                 0  \n",
       "1              38.825898                 0  \n",
       "2              35.014271                 1  \n",
       "3              34.223992                 1  \n",
       "4              32.997729                 1  \n",
       "...                  ...               ...  \n",
       "1888           63.145652                 2  \n",
       "1889           65.841013                 3  \n",
       "1890           69.176246                 4  \n",
       "1891           70.314904                 4  \n",
       "1892           73.867845                 4  \n",
       "\n",
       "[1880 rows x 8 columns]"
      ]
     },
     "execution_count": 7,
     "metadata": {},
     "output_type": "execute_result"
    }
   ],
   "source": [
    "# Create a clean DataFrame by dropping the duplicate mouse by its ID.\n",
    "clean_combined_df = combined_df[combined_df['Mouse ID']!='g989']\n",
    "clean_combined_df"
   ]
  },
  {
   "cell_type": "code",
   "execution_count": 8,
   "metadata": {},
   "outputs": [
    {
     "data": {
      "text/plain": [
       "248"
      ]
     },
     "execution_count": 8,
     "metadata": {},
     "output_type": "execute_result"
    }
   ],
   "source": [
    "# Checking the number of mice in the clean DataFrame.\n",
    "number_mice = len(clean_combined_df['Mouse ID'].unique())\n",
    "number_mice"
   ]
  },
  {
   "cell_type": "markdown",
   "metadata": {},
   "source": [
    "## Summary Statistics"
   ]
  },
  {
   "cell_type": "code",
   "execution_count": 9,
   "metadata": {},
   "outputs": [
    {
     "data": {
      "text/html": [
       "<div>\n",
       "<style scoped>\n",
       "    .dataframe tbody tr th:only-of-type {\n",
       "        vertical-align: middle;\n",
       "    }\n",
       "\n",
       "    .dataframe tbody tr th {\n",
       "        vertical-align: top;\n",
       "    }\n",
       "\n",
       "    .dataframe thead th {\n",
       "        text-align: right;\n",
       "    }\n",
       "</style>\n",
       "<table border=\"1\" class=\"dataframe\">\n",
       "  <thead>\n",
       "    <tr style=\"text-align: right;\">\n",
       "      <th></th>\n",
       "      <th>Tumor Regimen Mean</th>\n",
       "      <th>Tumor Regimen Median</th>\n",
       "      <th>Tumor Regimen Variance</th>\n",
       "      <th>Tumor Regimen Std Dev</th>\n",
       "      <th>Tumor SEM</th>\n",
       "    </tr>\n",
       "    <tr>\n",
       "      <th>Drug Regimen</th>\n",
       "      <th></th>\n",
       "      <th></th>\n",
       "      <th></th>\n",
       "      <th></th>\n",
       "      <th></th>\n",
       "    </tr>\n",
       "  </thead>\n",
       "  <tbody>\n",
       "    <tr>\n",
       "      <th>Capomulin</th>\n",
       "      <td>40.675741</td>\n",
       "      <td>41.557809</td>\n",
       "      <td>24.947764</td>\n",
       "      <td>4.994774</td>\n",
       "      <td>0.329346</td>\n",
       "    </tr>\n",
       "    <tr>\n",
       "      <th>Ceftamin</th>\n",
       "      <td>52.591172</td>\n",
       "      <td>51.776157</td>\n",
       "      <td>39.290177</td>\n",
       "      <td>6.268188</td>\n",
       "      <td>0.469821</td>\n",
       "    </tr>\n",
       "    <tr>\n",
       "      <th>Infubinol</th>\n",
       "      <td>52.884795</td>\n",
       "      <td>51.820584</td>\n",
       "      <td>43.128684</td>\n",
       "      <td>6.567243</td>\n",
       "      <td>0.492236</td>\n",
       "    </tr>\n",
       "    <tr>\n",
       "      <th>Ketapril</th>\n",
       "      <td>55.235638</td>\n",
       "      <td>53.698743</td>\n",
       "      <td>68.553577</td>\n",
       "      <td>8.279709</td>\n",
       "      <td>0.603860</td>\n",
       "    </tr>\n",
       "    <tr>\n",
       "      <th>Naftisol</th>\n",
       "      <td>54.331565</td>\n",
       "      <td>52.509285</td>\n",
       "      <td>66.173479</td>\n",
       "      <td>8.134708</td>\n",
       "      <td>0.596466</td>\n",
       "    </tr>\n",
       "    <tr>\n",
       "      <th>Placebo</th>\n",
       "      <td>54.033581</td>\n",
       "      <td>52.288934</td>\n",
       "      <td>61.168083</td>\n",
       "      <td>7.821003</td>\n",
       "      <td>0.581331</td>\n",
       "    </tr>\n",
       "    <tr>\n",
       "      <th>Propriva</th>\n",
       "      <td>52.320930</td>\n",
       "      <td>50.446266</td>\n",
       "      <td>43.852013</td>\n",
       "      <td>6.622085</td>\n",
       "      <td>0.544332</td>\n",
       "    </tr>\n",
       "    <tr>\n",
       "      <th>Ramicane</th>\n",
       "      <td>40.216745</td>\n",
       "      <td>40.673236</td>\n",
       "      <td>23.486704</td>\n",
       "      <td>4.846308</td>\n",
       "      <td>0.320955</td>\n",
       "    </tr>\n",
       "    <tr>\n",
       "      <th>Stelasyn</th>\n",
       "      <td>54.233149</td>\n",
       "      <td>52.431737</td>\n",
       "      <td>59.450562</td>\n",
       "      <td>7.710419</td>\n",
       "      <td>0.573111</td>\n",
       "    </tr>\n",
       "    <tr>\n",
       "      <th>Zoniferol</th>\n",
       "      <td>53.236507</td>\n",
       "      <td>51.818479</td>\n",
       "      <td>48.533355</td>\n",
       "      <td>6.966589</td>\n",
       "      <td>0.516398</td>\n",
       "    </tr>\n",
       "  </tbody>\n",
       "</table>\n",
       "</div>"
      ],
      "text/plain": [
       "              Tumor Regimen Mean  Tumor Regimen Median  \\\n",
       "Drug Regimen                                             \n",
       "Capomulin              40.675741             41.557809   \n",
       "Ceftamin               52.591172             51.776157   \n",
       "Infubinol              52.884795             51.820584   \n",
       "Ketapril               55.235638             53.698743   \n",
       "Naftisol               54.331565             52.509285   \n",
       "Placebo                54.033581             52.288934   \n",
       "Propriva               52.320930             50.446266   \n",
       "Ramicane               40.216745             40.673236   \n",
       "Stelasyn               54.233149             52.431737   \n",
       "Zoniferol              53.236507             51.818479   \n",
       "\n",
       "              Tumor Regimen Variance  Tumor Regimen Std Dev  Tumor SEM  \n",
       "Drug Regimen                                                            \n",
       "Capomulin                  24.947764               4.994774   0.329346  \n",
       "Ceftamin                   39.290177               6.268188   0.469821  \n",
       "Infubinol                  43.128684               6.567243   0.492236  \n",
       "Ketapril                   68.553577               8.279709   0.603860  \n",
       "Naftisol                   66.173479               8.134708   0.596466  \n",
       "Placebo                    61.168083               7.821003   0.581331  \n",
       "Propriva                   43.852013               6.622085   0.544332  \n",
       "Ramicane                   23.486704               4.846308   0.320955  \n",
       "Stelasyn                   59.450562               7.710419   0.573111  \n",
       "Zoniferol                  48.533355               6.966589   0.516398  "
      ]
     },
     "execution_count": 9,
     "metadata": {},
     "output_type": "execute_result"
    }
   ],
   "source": [
    "# Generate a summary statistics table of mean, median, variance, standard deviation, and SEM of the tumor volume for each regimen\n",
    "tumor_mean = clean_combined_df.groupby('Drug Regimen').mean()['Tumor Volume (mm3)']\n",
    "tumor_median = clean_combined_df.groupby('Drug Regimen').median()['Tumor Volume (mm3)']\n",
    "tumor_var = clean_combined_df.groupby('Drug Regimen').var()['Tumor Volume (mm3)']\n",
    "tumor_std = clean_combined_df.groupby('Drug Regimen').std()['Tumor Volume (mm3)']\n",
    "tumor_sem = clean_combined_df.groupby('Drug Regimen').sem()['Tumor Volume (mm3)']\n",
    "\n",
    "tumor_df = pd.DataFrame({\n",
    "                            'Tumor Regimen Mean': tumor_mean,\n",
    "                            'Tumor Regimen Median': tumor_median,\n",
    "                            'Tumor Regimen Variance': tumor_var,\n",
    "                            'Tumor Regimen Std Dev': tumor_std,\n",
    "                            'Tumor SEM': tumor_sem\n",
    "})\n",
    "tumor_df\n",
    "# This method is the most straighforward, creating multiple series and putting them all together at the end.\n"
   ]
  },
  {
   "cell_type": "code",
   "execution_count": 8,
   "metadata": {},
   "outputs": [],
   "source": [
    "# Generate a summary statistics table of mean, median, variance, standard deviation, and SEM of the tumor volume for each regimen\n",
    "\n",
    "# This method produces everything in a single groupby function\n"
   ]
  },
  {
   "cell_type": "markdown",
   "metadata": {},
   "source": [
    "## Bar and Pie Charts"
   ]
  },
  {
   "cell_type": "code",
   "execution_count": 17,
   "metadata": {},
   "outputs": [
    {
     "data": {
      "text/plain": [
       "Text(0, 0.5, 'Number of Mice')"
      ]
     },
     "execution_count": 17,
     "metadata": {},
     "output_type": "execute_result"
    },
    {
     "data": {
      "image/png": "[encoded data removed]",
      "text/plain": [
       "<Figure size 432x288 with 1 Axes>"
      ]
     },
     "metadata": {
      "needs_background": "light"
     },
     "output_type": "display_data"
    }
   ],
   "source": [
    "# Generate a bar plot showing the total number of mice for each treatment throughout the course of the study using pandas. \n",
    "mice_num = clean_combined_df.groupby(['Drug Regimen']).count()['Mouse ID']\n",
    "mice_num\n",
    "\n",
    "bar_plot = mice_num.plot(kind='bar')\n",
    "plt.title(\"Drug Regimen\")\n",
    "plt.xlabel(\"Drug Regimen\")\n",
    "plt.ylabel(\"Number of Mice\")"
   ]
  },
  {
   "cell_type": "code",
   "execution_count": 10,
   "metadata": {},
   "outputs": [],
   "source": [
    "# Generate a bar plot showing the total number of mice for each treatment throughout the course of the study using pyplot.\n",
    "\n"
   ]
  },
  {
   "cell_type": "code",
   "execution_count": 11,
   "metadata": {},
   "outputs": [],
   "source": [
    "# Generate a pie plot showing the distribution of female versus male mice using pandas\n",
    "\n"
   ]
  },
  {
   "cell_type": "code",
   "execution_count": 12,
   "metadata": {},
   "outputs": [],
   "source": [
    "# Generate a pie plot showing the distribution of female versus male mice using pyplot\n",
    "\n"
   ]
  },
  {
   "cell_type": "markdown",
   "metadata": {},
   "source": [
    "## Quartiles, Outliers and Boxplots"
   ]
  },
  {
   "cell_type": "code",
   "execution_count": 13,
   "metadata": {},
   "outputs": [],
   "source": [
    "# Calculate the final tumor volume of each mouse across four of the treatment regimens:  \n",
    "# Capomulin, Ramicane, Infubinol, and Ceftamin\n",
    "\n",
    "# Start by getting the last (greatest) timepoint for each mouse\n",
    "\n",
    "\n",
    "# Merge this group df with the original dataframe to get the tumor volume at the last timepoint\n"
   ]
  },
  {
   "cell_type": "code",
   "execution_count": 14,
   "metadata": {},
   "outputs": [],
   "source": [
    "# Put treatments into a list for for loop (and later for plot labels)\n",
    "\n",
    "\n",
    "# Create empty list to fill with tumor vol data (for plotting)\n",
    "\n",
    "\n",
    "# Calculate the IQR and quantitatively determine if there are any potential outliers. \n",
    "\n",
    "    \n",
    "    # Locate the rows which contain mice on each drug and get the tumor volumes\n",
    "    \n",
    "    \n",
    "    # add subset \n",
    "    \n",
    "    \n",
    "    # Determine outliers using upper and lower bounds\n",
    "    "
   ]
  },
  {
   "cell_type": "code",
   "execution_count": 15,
   "metadata": {},
   "outputs": [],
   "source": [
    "# Generate a box plot of the final tumor volume of each mouse across four regimens of interest\n"
   ]
  },
  {
   "cell_type": "markdown",
   "metadata": {},
   "source": [
    "## Line and Scatter Plots"
   ]
  },
  {
   "cell_type": "code",
   "execution_count": 16,
   "metadata": {},
   "outputs": [],
   "source": [
    "# Generate a line plot of time point versus tumor volume for a mouse treated with Capomulin\n"
   ]
  },
  {
   "cell_type": "code",
   "execution_count": 17,
   "metadata": {},
   "outputs": [],
   "source": [
    "# Generate a scatter plot of mouse weight versus average tumor volume for the Capomulin regimen\n"
   ]
  },
  {
   "cell_type": "markdown",
   "metadata": {},
   "source": [
    "## Correlation and Regression"
   ]
  },
  {
   "cell_type": "code",
   "execution_count": 18,
   "metadata": {},
   "outputs": [],
   "source": [
    "# Calculate the correlation coefficient and linear regression model \n",
    "# for mouse weight and average tumor volume for the Capomulin regimen\n"
   ]
  },
  {
   "cell_type": "code",
   "execution_count": null,
   "metadata": {},
   "outputs": [],
   "source": []
  }
 ],
 "metadata": {
  "anaconda-cloud": {},
  "kernelspec": {
   "display_name": "Python 3",
   "language": "python",
   "name": "python3"
  },
  "language_info": {
   "codemirror_mode": {
    "name": "ipython",
    "version": 3
   },
   "file_extension": ".py",
   "mimetype": "text/x-python",
   "name": "python",
   "nbconvert_exporter": "python",
   "pygments_lexer": "ipython3",
   "version": "3.6.10"
  }
 },
 "nbformat": 4,
 "nbformat_minor": 2
}
